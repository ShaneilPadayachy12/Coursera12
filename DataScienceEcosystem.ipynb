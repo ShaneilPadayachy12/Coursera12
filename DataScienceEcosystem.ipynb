{
 "cells": [
  {
   "cell_type": "markdown",
   "id": "2f9e4566-1301-4f78-90ff-260cd3688e1d",
   "metadata": {},
   "source": [
    "# Data Science Tools and Ecosystem\n"
   ]
  },
  {
   "cell_type": "markdown",
   "id": "c016d5d3-e9ce-4ecf-b7ca-f6a8880a81eb",
   "metadata": {},
   "source": [
    "## Exercise 3 Introduction\n",
    "\n",
    "In this notebook, we will explore the fundamental tools and ecosystem that underpin modern data science practices, from data ingestion and cleaning to visualization and machine learning.\n",
    "\n"
   ]
  },
  {
   "cell_type": "markdown",
   "id": "31200f87-53e4-443c-b415-b7e47d35d82e",
   "metadata": {},
   "source": [
    "**Exercise 10 Objectives:**\n",
    "\n",
    "* List popular languages for Data Science  \n",
    "* List commonly used libraries for Data Science  \n",
    "* Identify open-source development environment tools  \n",
    "* Evaluate simple arithmetic expressions in Python  \n",
    "* Convert minutes to hours using Python  \n"
   ]
  },
  {
   "cell_type": "markdown",
   "id": "96163bf3-45a2-44d0-880a-967f7ad5f66f",
   "metadata": {},
   "source": [
    "## Exercise 4 Data Science Languages\n",
    "\n",
    "Some of the popular languages that Data Scientists use are:\n",
    "\n",
    "1. Python\n",
    "2. R\n",
    "3. Julia\n"
   ]
  },
  {
   "cell_type": "markdown",
   "id": "b71f6679-ab01-4bcd-8d86-68d050f45f3a",
   "metadata": {
    "jp-MarkdownHeadingCollapsed": true,
    "jupyter": {
     "source_hidden": true
    }
   },
   "source": [
    "## Exercise 5 Data Science Libraries\n",
    "\n",
    "Some of the commonly used libraries used by Data Scientists include:\n",
    "\n",
    "1. NumPy\n",
    "2. pandas\n",
    "3. Matplotlib\n",
    "\n"
   ]
  },
  {
   "cell_type": "markdown",
   "id": "ebd7df15-5725-48ae-afc9-baf350bf3571",
   "metadata": {},
   "source": [
    "## Exercise 6 Data Science Tools\n",
    "\n",
    "| Data Science Tools |\n",
    "|--------------------|\n",
    "| Jupyter Notebook   |\n",
    "| RStudio            |\n",
    "| VS Code            |\n"
   ]
  },
  {
   "cell_type": "markdown",
   "id": "fe717953-1d19-4492-85e9-92a64e82b902",
   "metadata": {},
   "source": [
    "### Exercise 7 Below are a few examples of evaluating arithmetic expressions in Python.\n"
   ]
  },
  {
   "cell_type": "code",
   "execution_count": 3,
   "id": "4d0b12bb-a051-4358-b482-cc21d4be1514",
   "metadata": {},
   "outputs": [
    {
     "data": {
      "text/plain": [
       "17"
      ]
     },
     "execution_count": 3,
     "metadata": {},
     "output_type": "execute_result"
    }
   ],
   "source": [
    "# Exercise 8 This is a simple arithmetic expression to multiply then add integers.\n",
    "(3 * 4) + 5\n"
   ]
  },
  {
   "cell_type": "code",
   "execution_count": 5,
   "id": "081d7964-965f-452e-a44e-9dfc725656f9",
   "metadata": {},
   "outputs": [
    {
     "data": {
      "text/plain": [
       "3.3333333333333335"
      ]
     },
     "execution_count": 5,
     "metadata": {},
     "output_type": "execute_result"
    }
   ],
   "source": [
    "# Exercise 9 This will convert 200 minutes to hours by dividing by 60.\n",
    "200 / 60\n"
   ]
  },
  {
   "cell_type": "markdown",
   "id": "f3019ec9-0c3d-4c49-b97c-9744c8545127",
   "metadata": {},
   "source": [
    "## Exercise 11  Author\n",
    "\n",
    "Shaneil \n"
   ]
  },
  {
   "cell_type": "code",
   "execution_count": null,
   "id": "61a64d41-7966-4bd5-8cbd-86bd13f05eb2",
   "metadata": {},
   "outputs": [],
   "source": []
  }
 ],
 "metadata": {
  "kernelspec": {
   "display_name": "Python 3 (ipykernel)",
   "language": "python",
   "name": "python3"
  },
  "language_info": {
   "codemirror_mode": {
    "name": "ipython",
    "version": 3
   },
   "file_extension": ".py",
   "mimetype": "text/x-python",
   "name": "python",
   "nbconvert_exporter": "python",
   "pygments_lexer": "ipython3",
   "version": "3.12.8"
  }
 },
 "nbformat": 4,
 "nbformat_minor": 5
}
